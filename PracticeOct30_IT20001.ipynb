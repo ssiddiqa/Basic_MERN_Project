{
  "nbformat": 4,
  "nbformat_minor": 0,
  "metadata": {
    "colab": {
      "provenance": [],
      "authorship_tag": "ABX9TyOxe+jJjaLlzXvQ79krKrRi",
      "include_colab_link": true
    },
    "kernelspec": {
      "name": "python3",
      "display_name": "Python 3"
    },
    "language_info": {
      "name": "python"
    }
  },
  "cells": [
    {
      "cell_type": "markdown",
      "metadata": {
        "id": "view-in-github",
        "colab_type": "text"
      },
      "source": [
        "<a href=\"https://colab.research.google.com/github/ssiddiqa/Basic_MERN_Project/blob/main/PracticeOct30_IT20001.ipynb\" target=\"_parent\"><img src=\"https://colab.research.google.com/assets/colab-badge.svg\" alt=\"Open In Colab\"/></a>"
      ]
    },
    {
      "cell_type": "code",
      "execution_count": null,
      "metadata": {
        "id": "6W0elHaav_XG"
      },
      "outputs": [],
      "source": [
        "def MBSTU_TotalDept(f_engg,f_ls,others):\n",
        "  total_dept=f_engg+f_ls+others\n",
        "  return total_dept"
      ]
    },
    {
      "cell_type": "code",
      "source": [
        "f_engg=int(input(\"Enter no of Dept of f_engg: \"))\n",
        "f_ls=int(input(\"Enter no of Dept of f_ls: \"))\n",
        "others=int(input(\"Enter no of Dept of others:\"))\n",
        "total=MBSTU_TotalDept(f_engg,f_ls,others)\n",
        "print(\"Total Dept of MBSTU: \",total)"
      ],
      "metadata": {
        "colab": {
          "base_uri": "https://localhost:8080/"
        },
        "id": "JLtaMAcQxH_U",
        "outputId": "b744b0d6-153c-41c6-c0de-8d33384edb62"
      },
      "execution_count": null,
      "outputs": [
        {
          "output_type": "stream",
          "name": "stdout",
          "text": [
            "Enter no of Dept of f_engg: 3\n",
            "Enter no of Dept of f_ls: 4\n",
            "Enter no of Dept of others:5\n",
            "Total Dept of MBSTU:  12\n"
          ]
        }
      ]
    }
  ]
}